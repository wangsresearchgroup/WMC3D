{
 "cells": [
  {
   "cell_type": "markdown",
   "metadata": {
    "id": "1IY1So8znBIV"
   },
   "source": [
    "Goal: perform wavelet-based multi-view clustering (WMC) on new dataset"
   ]
  },
  {
   "cell_type": "code",
   "execution_count": 4,
   "metadata": {
    "colab": {
     "base_uri": "https://localhost:8080/"
    },
    "collapsed": true,
    "executionInfo": {
     "elapsed": 71741,
     "status": "ok",
     "timestamp": 1736915176593,
     "user": {
      "displayName": "Adeethyia Shankar",
      "userId": "10271441193971339498"
     },
     "user_tz": 300
    },
    "id": "m0eWPJMQRkvY",
    "outputId": "b7196ebc-8c9e-408c-a572-c4083c9f95d4"
   },
   "outputs": [],
   "source": [
    "import numpy as np\n",
    "import pandas as pd\n",
    "import matplotlib.pyplot as plt\n",
    "import scanpy as sc\n",
    "\n",
    "plt.rcParams['savefig.dpi'] = 600\n",
    "plt.rcParams['savefig.bbox'] = 'tight'\n",
    "edgecolor_dict = {0: '#243078', 1: '#BEA2C4', 2: '#ACC9E5', 3: '#6AB5C0'}"
   ]
  },
  {
   "cell_type": "markdown",
   "metadata": {
    "id": "mqAv1c0aStS2"
   },
   "source": [
    "Citation: Chen, Sijie (2024). Single-cell RNA-seq dataset of innate lymphoid cells. figshare. Dataset. https://doi.org/10.6084/m9.figshare.27190692.v1"
   ]
  },
  {
   "cell_type": "code",
   "execution_count": 7,
   "metadata": {
    "colab": {
     "base_uri": "https://localhost:8080/"
    },
    "collapsed": true,
    "executionInfo": {
     "elapsed": 10870,
     "status": "ok",
     "timestamp": 1736572875261,
     "user": {
      "displayName": "Adeethyia Shankar",
      "userId": "10271441193971339498"
     },
     "user_tz": 480
    },
    "id": "5cCHV7s2VnWo",
    "outputId": "56af4a89-392f-4ca5-cce9-2dc839d77f7d"
   },
   "outputs": [
    {
     "name": "stderr",
     "output_type": "stream",
     "text": [
      "c:\\Users\\adeet\\anaconda3\\Lib\\site-packages\\anndata\\_core\\anndata.py:1758: UserWarning: Variable names are not unique. To make them unique, call `.var_names_make_unique`.\n",
      "  utils.warn_names_duplicates(\"var\")\n",
      "c:\\Users\\adeet\\anaconda3\\Lib\\site-packages\\anndata\\_core\\anndata.py:1758: UserWarning: Variable names are not unique. To make them unique, call `.var_names_make_unique`.\n",
      "  utils.warn_names_duplicates(\"var\")\n"
     ]
    }
   ],
   "source": [
    "adata = sc.read_h5ad('220516-ABM.velo.h5ad')\n",
    "\n",
    "# Filter cells with fewer than 200 genes or more than 3,000 genes\n",
    "sc.pp.filter_cells(adata, min_genes=200)\n",
    "sc.pp.filter_cells(adata, max_genes=3000)\n",
    "# Filter genes detected in fewer than 20 cells\n",
    "sc.pp.filter_genes(adata, min_cells=20)\n",
    "\n",
    "# Log normalization of each layer\n",
    "def log_norm(adata):\n",
    "  sc.pp.normalize_total(adata, target_sum=1e4, exclude_highly_expressed=True)\n",
    "  sc.pp.log1p(adata)\n",
    "log_norm(adata)\n",
    "for layer in adata.layers:\n",
    "  temp_adata = sc.AnnData(adata.layers[layer])\n",
    "  log_norm(temp_adata)\n",
    "  adata.layers[layer] = temp_adata.X"
   ]
  },
  {
   "cell_type": "markdown",
   "metadata": {
    "id": "q7f-2NkGznb5"
   },
   "source": [
    "mDWT\n",
    "*   input: sparse matrix X where rows represent observations, integer M among 2, 3, or 4\n",
    "*   output: M-band DWT decomposition of X"
   ]
  },
  {
   "cell_type": "code",
   "execution_count": 174,
   "metadata": {
    "colab": {
     "base_uri": "https://localhost:8080/",
     "height": 1000
    },
    "collapsed": true,
    "executionInfo": {
     "elapsed": 15437,
     "status": "ok",
     "timestamp": 1736572890696,
     "user": {
      "displayName": "Adeethyia Shankar",
      "userId": "10271441193971339498"
     },
     "user_tz": 480
    },
    "id": "OqDRyLVl0QNz",
    "outputId": "4354e1b4-9f8c-42ca-8d79-bfdc722e4e33"
   },
   "outputs": [],
   "source": [
    "import pywt\n",
    "import scipy.sparse as sp\n",
    "\n",
    "def two_band(X):\n",
    "  X = X.T\n",
    "  n, m = X.shape\n",
    "  nn = n + n % 2\n",
    "\n",
    "  VV = np.empty((nn, m))\n",
    "  WW = np.empty((nn, m))\n",
    "  XX = np.zeros((nn, m))\n",
    "  XX[:n, :] = X\n",
    "\n",
    "  for i in range(m):\n",
    "    p = XX[:, i]\n",
    "    B = pywt.wavedec(p, 'db4', level=1)\n",
    "    B1, B2 = B.copy(), B.copy()\n",
    "\n",
    "    B1[1] = np.zeros_like(B1[1])\n",
    "    B2[0] = np.zeros_like(B2[0])\n",
    "\n",
    "    VV[:, i] = pywt.waverec(B1, 'db4')\n",
    "    WW[:, i] = pywt.waverec(B2, 'db4')\n",
    "\n",
    "  VV = VV[:n, :]\n",
    "  WW = WW[:n, :]\n",
    "  result = {\"low\": sp.csr_matrix(VV.T), \"high1\": sp.csr_matrix(WW.T)}\n",
    "  return result\n",
    "\n",
    "def three2WTM(n):\n",
    "  if (n % 3 != 0):\n",
    "    raise ValueError(str(n) + ' is not divisible by 3')\n",
    "  # Filter banks\n",
    "  h0 = np.array([0.33838609728386, 0.53083618701374, 0.72328627674361,\n",
    "                 0.23896417190576, 0.04651408217589, -0.14593600755399])\n",
    "  h1 = np.array([-0.11737701613483, 0.54433105395181, -0.01870574735313,\n",
    "                 -0.69911956479289, -0.13608276348796, 0.42695403781698])\n",
    "  h2 = np.array([0.40363686892892, -0.62853936105471, 0.46060475252131,\n",
    "                 -0.40363686892892, -0.07856742013185, 0.24650202866523])\n",
    "  # Matrix of filter banks created for convenience\n",
    "  h = np.array([h0, h1, h2])\n",
    "\n",
    "  k = n // 3\n",
    "  W = sp.lil_matrix((n, n))\n",
    "  for j in range(3):\n",
    "    for i in range(k):\n",
    "      if 3 * i + 6 > 3 * k:\n",
    "        W[k * j + i, range((3 * i), (3 * i + 3))] = h[j, range(3)]\n",
    "        W[k * j + i, range(3)] = h[j, range(3, 6)]\n",
    "      else:\n",
    "        W[k * j + i, range((3 * i), (3 * i + 6))] = h[j, range(6)]\n",
    "  return W.tocsr()\n",
    "\n",
    "def four2WTM(n):\n",
    "  if (n % 4 != 0):\n",
    "    raise ValueError(str(n) + ' is not divisible by 4')\n",
    "  #Filter banks\n",
    "  h0 = np.array([-0.067371764, 0.094195111, 0.40580489, 0.567371764,\n",
    "                 0.567371764, 0.40580489, 0.094195111, -0.067371764])\n",
    "  h1 = np.array([-0.094195111, 0.067371764, 0.567371764, 0.40580489,\n",
    "                 -0.40580489, -0.567371764, -0.067371764, 0.094195111])\n",
    "  h2 = np.array([-0.094195111, -0.067371764, 0.567371764, -0.40580489,\n",
    "                 -0.40580489, 0.567371764, -0.067371764, -0.094195111])\n",
    "  h3 = np.array([-0.067371764, -0.094195111, 0.40580489, -0.567371764,\n",
    "                 0.567371764, -0.40580489, 0.094195111, 0.067371764])\n",
    "  #Matrix of filter banks created for convenience\n",
    "  h = np.array([h0, h1, h2, h3])\n",
    "\n",
    "  k = n // 4\n",
    "  W = sp.lil_matrix((n, n))\n",
    "  for j in range(4):\n",
    "    for i in range(k):\n",
    "      if 4 * i + 8 > 4 * k:\n",
    "        W[k * j + i, range((4 * i), (4 * i + 4))] = h[j, range(4)]\n",
    "        W[k * j + i, range(4)] = h[j, range(4, 8)]\n",
    "      else:\n",
    "        W[k * j + i, range((4 * i), (4 * i + 8))] = h[j, range(8)]\n",
    "  return W.tocsr()\n",
    "\n",
    "def m_band(S, M):\n",
    "  m, n = S.shape\n",
    "  if (n % M != 0):\n",
    "    S = sp.hstack([S, sp.csr_matrix((m, M - (n % M)))])\n",
    "  W = {3: three2WTM, 4: four2WTM}[M](S.shape[1])\n",
    "\n",
    "  # Directly obtain A1, D1, D2, D3\n",
    "  k = S.shape[1] // M\n",
    "  dwt_dict = {}\n",
    "  for i in range(M):\n",
    "    dwt = S @ W[i * k:(i + 1) * k].T.dot(W[i * k:(i + 1) * k])\n",
    "    dwt_dict['low' if i == 0 else f'high{i}'] = dwt[:, :n]\n",
    "  return dwt_dict\n",
    "\n",
    "def mDWT(X, M):\n",
    "  if M == 2:\n",
    "    return two_band(X.toarray() if sp.issparse(X) else X)\n",
    "  elif M == 3 or M == 4:\n",
    "    return m_band(X, M)\n",
    "  else:\n",
    "    raise ValueError('Invalid band: M must be 2, 3, or 4')\n",
    "\n",
    "def test_mDWT(M_values):\n",
    "  fig, axs = plt.subplots(max(M_values) + 1, len(M_values), figsize=(10, 18))\n",
    "  np.random.seed(0)\n",
    "  X = np.random.rand(1, 100)\n",
    "  for idx, M in enumerate(M_values):\n",
    "    result = mDWT(X, M)\n",
    "    for i, wt in zip(range(M + 1), [X, *result.values()]):\n",
    "      ax = axs[i, idx]\n",
    "      ax.plot((wt.toarray() if sp.issparse(wt) else wt).flatten())\n",
    "      ax.set_title(i)\n",
    "  plt.tight_layout()"
   ]
  },
  {
   "cell_type": "markdown",
   "metadata": {},
   "source": [
    "Wavelet time analysis"
   ]
  },
  {
   "cell_type": "code",
   "execution_count": 175,
   "metadata": {},
   "outputs": [],
   "source": [
    "import timeit\n",
    "\n",
    "def mDWT_times(adata=adata, M_values=[2, 3, 4], step=100):\n",
    "    n_range = [n + 1 for n in range(0, adata.X.shape[0], step)]\n",
    "    mDWT_df = pd.DataFrame({\n",
    "        f'{M}-Band': [\n",
    "            min(\n",
    "                timeit.repeat(\n",
    "                    stmt=lambda: mDWT(adata.X[:n, :], M),\n",
    "                    number=1\n",
    "                )\n",
    "            ) for n in n_range\n",
    "        ] for M in M_values\n",
    "    })\n",
    "    mDWT_df.insert(0, 'Cells', n_range)\n",
    "    mDWT_df.to_csv('WMC times.csv', index=False)\n",
    "\n",
    "def plot_mDWT_times(mDWT_df):\n",
    "    fig, ax = plt.subplots()\n",
    "    for label in mDWT_df.columns[1:]:\n",
    "        x = mDWT_df['Cells']\n",
    "        y = mDWT_df[label]\n",
    "        ax.scatter(x, y, label=label)\n",
    "        m, b = np.polyfit(x, y, deg=1)\n",
    "        ax.plot(x, m * x + b, label=f'_{label}')\n",
    "    ax.set_xlabel('Number of Innate Lymphoid Cells')\n",
    "    ax.set_ylabel('Time (seconds)')\n",
    "    ax.legend(title='WMC')\n",
    "    fig.savefig('WMC times.pdf')\n",
    "    plt.close(fig)"
   ]
  },
  {
   "cell_type": "code",
   "execution_count": 214,
   "metadata": {},
   "outputs": [],
   "source": [
    "mDWT_times()"
   ]
  },
  {
   "cell_type": "code",
   "execution_count": 219,
   "metadata": {},
   "outputs": [],
   "source": [
    "plot_mDWT_times(pd.read_csv('WMC times.csv'))"
   ]
  },
  {
   "cell_type": "markdown",
   "metadata": {
    "id": "97K--U_IyEcz"
   },
   "source": [
    "Perform wavelet decomposition"
   ]
  },
  {
   "cell_type": "code",
   "execution_count": 176,
   "metadata": {
    "id": "oV4nUSrhyGsv"
   },
   "outputs": [],
   "source": [
    "dwt_dicts = {M: mDWT(adata.X, M) for M in [2, 3, 4]}"
   ]
  },
  {
   "cell_type": "markdown",
   "metadata": {
    "id": "Y_2T6SQNQDY2"
   },
   "source": [
    "Perform dimension reduction"
   ]
  },
  {
   "cell_type": "code",
   "execution_count": 177,
   "metadata": {
    "id": "H2pTkmrwumpf"
   },
   "outputs": [],
   "source": [
    "def dimreduce(adata):\n",
    "  sc.pp.scale(adata)\n",
    "  sc.tl.pca(adata)\n",
    "  sc.pp.neighbors(adata, use_rep='X_pca')\n",
    "  sc.tl.leiden(adata)\n",
    "  sc.tl.umap(adata, n_components=3)\n",
    "\n",
    "dimreduce(adata)\n",
    "for M, dwt_dict in dwt_dicts.items():\n",
    "  for key, val in dwt_dict.items():\n",
    "    adata.layers[f'wmc_{M}band_{key}'] = val\n",
    "    adata_dwt = sc.AnnData(X=val)\n",
    "    dimreduce(adata_dwt)\n",
    "    adata.obs[f'leiden_{M}band_{key}'] = adata_dwt.obs['leiden'].to_numpy()\n",
    "    adata.obsm[f'X_umap_{M}band_{key}'] = adata_dwt.obsm[f'X_umap']\n",
    "# Save DWT decomposition\n",
    "adata.write_h5ad('220516-ABM.velo.wmc.h5ad')"
   ]
  },
  {
   "cell_type": "markdown",
   "metadata": {
    "id": "GAj8z6kmQJgG"
   },
   "source": [
    "Plot WMC results compared to UMAP without WMC"
   ]
  },
  {
   "cell_type": "code",
   "execution_count": 178,
   "metadata": {
    "id": "hL2GcK01KBST"
   },
   "outputs": [],
   "source": [
    "def wmc_results(adata, color='ann0608', cell='type', edgecolor_dict = edgecolor_dict):\n",
    "  # Collect coordinates corresponding to WMC\n",
    "  keys = [key for key in adata.obsm.keys() if 'X_umap_' in key]\n",
    "  unique_M = sorted(set(int(key.split('_')[2][0]) for key in keys))\n",
    "  fig, axes = plt.subplots(nrows=len(unique_M) + 1, ncols=unique_M[-1] + 1,\n",
    "                           figsize=(10, 10), subplot_kw={'projection': '3d'})\n",
    "  # Plot UMAP without WMC\n",
    "  ax = axes[0, 1]\n",
    "  sc.pl.umap(adata, color=color, ax=ax, show=False, title='No WMC',\n",
    "             projection='3d')\n",
    "  legend_labels = [t.get_text() for t in ax.get_legend().get_texts()]\n",
    "  legend_handles = ax.get_legend().legend_handles\n",
    "  ax.get_legend().remove()\n",
    "  # Turn off blank subplots\n",
    "  for row in range(axes.shape[0]):\n",
    "    ax = axes[row, 0]\n",
    "    ax.text(x=0.5, y=0.5, z=0.5, size='xx-large', ha='center', va='center',\n",
    "            s='Without\\nWMC' if row == 0 else f'{row + 1}-Band')\n",
    "    ax.text(x=-0.65, y=0.7, z=1.4, s=chr(row + 65), size='xx-large', va='top')\n",
    "    for col in [0, *range(row + 2, axes.shape[1])]:\n",
    "      axes[row, col].axis('off')\n",
    "  # Plot WMC figures\n",
    "  for i, key in enumerate(keys):\n",
    "    M = int(key.split('_')[2][0])\n",
    "    freq = key.split(\"_\")[3].capitalize()\n",
    "    if len(freq) > 3:\n",
    "      freq = freq[:-1] + ' ' + freq[-1]\n",
    "    ax = axes[M - 1, 1 + (0 if freq == 'Low' else int(freq[-1]))]\n",
    "    sc.pl.embedding(adata, basis=key, color=color, ax=ax, show=False,\n",
    "                    legend_loc='none', title=freq, projection='3d')\n",
    "  # Set axes\n",
    "  for ax in axes.flatten():\n",
    "    ax.set_title(ax.get_title(), pad=-40)\n",
    "    ax.set_xlabel('UMAP 1', labelpad=-15)\n",
    "    ax.set_ylabel('UMAP 2', labelpad=-15)\n",
    "    ax.set_zlabel('UMAP 3', labelpad=-15)\n",
    "\n",
    "  fig.legend(title=f'Cell {cell}', handles=legend_handles, labels=legend_labels,\n",
    "             fontsize='x-large', title_fontsize='x-large')\n",
    "  fig.tight_layout()\n",
    "\n",
    "  # Add boxes around rows\n",
    "  for row in range(axes.shape[0]):\n",
    "    ax = axes[row, 0]\n",
    "    box = ax.get_position()\n",
    "    fig.add_artist(plt.Rectangle(\n",
    "      (box.x0 - 0.5 * fig.subplotpars.left, box.y0 - 0.6 * fig.subplotpars.bottom),\n",
    "      (box.width + 1.2 * fig.subplotpars.left) * (row + 2),\n",
    "      box.height + 2 * fig.subplotpars.bottom,\n",
    "      transform=fig.transFigure,\n",
    "      fill=False,\n",
    "      edgecolor=edgecolor_dict[row],\n",
    "      linewidth=1 if row == 0 else 2\n",
    "    ))\n",
    "  fig.savefig(f'wmc_{cell}.pdf', transparent=True)\n",
    "  plt.close(fig)"
   ]
  },
  {
   "cell_type": "code",
   "execution_count": 3,
   "metadata": {
    "id": "tZrBCXNYphk5"
   },
   "outputs": [],
   "source": [
    "adata = sc.read_h5ad('220516-ABM.velo.wmc.h5ad')"
   ]
  },
  {
   "cell_type": "code",
   "execution_count": 138,
   "metadata": {
    "id": "QuBlD-95S_9o"
   },
   "outputs": [],
   "source": [
    "wmc_results(adata)\n",
    "wmc_results(adata, 'phase', cell='phase')"
   ]
  },
  {
   "cell_type": "markdown",
   "metadata": {
    "id": "agUUUx1JARcX"
   },
   "source": [
    "Plot dendrograms"
   ]
  },
  {
   "cell_type": "code",
   "execution_count": 6,
   "metadata": {
    "executionInfo": {
     "elapsed": 112,
     "status": "ok",
     "timestamp": 1736915466851,
     "user": {
      "displayName": "Adeethyia Shankar",
      "userId": "10271441193971339498"
     },
     "user_tz": 300
    },
    "id": "sf7uYeH0ATP8"
   },
   "outputs": [],
   "source": [
    "import os\n",
    "def plot_dendrograms(dir: str='DendrogramPlots', edgecolor_dict=edgecolor_dict, exts=['png', 'pdf']):\n",
    "  plot_fnames = [f for f in os.listdir(dir) if f.endswith('.png')]\n",
    "  fig, axes = plt.subplots(nrows=3, ncols=4, figsize=(15, 12))\n",
    "  for ax in axes.flatten():\n",
    "    ax.axis('off')\n",
    "  # Plot dendrograms\n",
    "  for fname in plot_fnames:\n",
    "    subplot = ''\n",
    "    if fname[0] == 'N':\n",
    "      title = 'No WMC'\n",
    "      ax = axes[0, 0]\n",
    "      subplot = 'A'\n",
    "    else:\n",
    "      M = int(fname[0])\n",
    "      title = fname.split('_')[1].split('.')[0].capitalize().replace('High', 'High ')\n",
    "      ax = axes[M - 2, 4 - M + (0 if title == 'Low' else int(title[-1]))]\n",
    "      if title == 'Low':\n",
    "         subplot = chr(M + 64)\n",
    "    if subplot != '':\n",
    "      ax.annotate(subplot, xy=(0, 1.05), xycoords='axes fraction', size='xx-large', va='top')\n",
    "    ax.imshow(plt.imread(os.path.join(dir, fname)))\n",
    "    ax.set_title(title)\n",
    "  # Add space between rows\n",
    "  fig.tight_layout(rect=[0, 0, 1, 1.05])\n",
    "  # Add boxes around rows\n",
    "  for M in range(axes.shape[1]):\n",
    "    if M == 0:\n",
    "      ax = axes[0, 0]\n",
    "    else:\n",
    "      ax = axes[M - 1, 3 - M]\n",
    "    box = ax.get_position()\n",
    "    fig.add_artist(plt.Rectangle(\n",
    "      (box.x0 - fig.subplotpars.left, box.y0 - fig.subplotpars.bottom),\n",
    "      (box.width + fig.subplotpars.left) * (M + 1),\n",
    "      box.height + 3 * fig.subplotpars.bottom,\n",
    "      transform=fig.transFigure,\n",
    "      fill=False,\n",
    "      edgecolor=edgecolor_dict[M],\n",
    "      linewidth=1 if M == 0 else 2\n",
    "    ))\n",
    "  # Add arrows from No WMC to WMCs\n",
    "  for M, xy, xytext in zip([2, 3, 4], [(-0.05, 0.8), (-0.05, 0.5), (0.5, 1.08)], [(0.85, 0.8), (0.5, 0), (0.5, 0)]):\n",
    "    axes[M // 4, 1 - M // 4].annotate(\n",
    "      f'{M}-Band',\n",
    "      xy=xy,\n",
    "      xytext=xytext,\n",
    "      xycoords='axes fraction',\n",
    "      textcoords='axes fraction',\n",
    "      size='xx-large',\n",
    "      ha='center',\n",
    "      va='center',\n",
    "      arrowprops=dict(arrowstyle=\"<-\", color=edgecolor_dict[M - 1])\n",
    "    )\n",
    "  for ext in exts:\n",
    "    fig.savefig(f'dendrograms.{ext}')\n",
    "  plt.close(fig)"
   ]
  },
  {
   "cell_type": "code",
   "execution_count": 7,
   "metadata": {
    "executionInfo": {
     "elapsed": 34755,
     "status": "ok",
     "timestamp": 1736915502901,
     "user": {
      "displayName": "Adeethyia Shankar",
      "userId": "10271441193971339498"
     },
     "user_tz": 300
    },
    "id": "rz_-SamZNm89"
   },
   "outputs": [],
   "source": [
    "plot_dendrograms()"
   ]
  },
  {
   "cell_type": "markdown",
   "metadata": {},
   "source": [
    "3D UMAP plots"
   ]
  },
  {
   "cell_type": "code",
   "execution_count": 3,
   "metadata": {},
   "outputs": [],
   "source": [
    "import os\n",
    "from mpl_toolkits.mplot3d import Axes3D\n",
    "\n",
    "def plot_order(x):\n",
    "    if x == 'No WMC':\n",
    "        return 0\n",
    "    elif 'Gap' in x:\n",
    "        return int(x[-1])\n",
    "    else:\n",
    "        return 3 * (int(x[0]) - 1) + int(x.replace('Low', 'Low0')[-1])\n",
    "\n",
    "def plot_umap(dir):\n",
    "    umap_df = pd.read_csv(\n",
    "        os.path.join(dir, 'UMAP.csv')\n",
    "    ).rename(columns={'subtype': 'Subtype', 'celltype': 'Cell Type'})\n",
    "    gaps = [f'Gap {n}' for n in [1, 4]]\n",
    "    umap_df = pd.concat([umap_df, umap_df.iloc[:len(gaps), :].assign(WMC = gaps)])\n",
    "    wmc_list = sorted(np.unique(umap_df['WMC']), key=plot_order)\n",
    "    celltype_list = sorted(np.unique(umap_df['Cell Type']))\n",
    "    fig, ax = plt.subplots(nrows=3, ncols=int(wmc_list[-1][0]), figsize=(15, 12),\n",
    "                        subplot_kw={'projection': '3d'})\n",
    "    ax = ax.flatten()\n",
    "    for i, wmc in enumerate(wmc_list):\n",
    "        if 'Gap' in wmc:\n",
    "            ax[i].axis('off')\n",
    "        else:\n",
    "            ax[i].set_title(wmc, fontsize='xx-large')\n",
    "            ax[i].set_xlabel('UMAP 1')\n",
    "            ax[i].set_ylabel('UMAP 2')\n",
    "            ax[i].set_zlabel('UMAP 3')\n",
    "            wmc_mask = umap_df['WMC'] == wmc\n",
    "            for celltype in celltype_list:\n",
    "                celltype_mask = umap_df['Cell Type'] == celltype\n",
    "                df = umap_df[wmc_mask & celltype_mask]\n",
    "                ax[i].scatter(df['UMAP_1'], df['UMAP_2'], df['UMAP_3'], label=celltype)\n",
    "    fig.legend(labels=celltype_list, loc='center left', fontsize='xx-large')\n",
    "    fig.tight_layout(h_pad=5, w_pad=3)\n",
    "    fig.savefig(f'UMAP 3D {dir}.pdf')\n",
    "    plt.close(fig)"
   ]
  },
  {
   "cell_type": "code",
   "execution_count": 2,
   "metadata": {},
   "outputs": [],
   "source": [
    "dirs_umap = ['CID3921', 'CID4463', 'CID4495', 'CID4523']"
   ]
  },
  {
   "cell_type": "code",
   "execution_count": 88,
   "metadata": {},
   "outputs": [],
   "source": [
    "for dir in dirs_umap:\n",
    "    plot_umap(dir)"
   ]
  },
  {
   "cell_type": "code",
   "execution_count": 59,
   "metadata": {},
   "outputs": [],
   "source": [
    "from sklearn.cluster import DBSCAN\n",
    "clusters = []\n",
    "for dir in dirs_umap:\n",
    "    umap_df = pd.read_csv(\n",
    "        os.path.join(dir, 'UMAP.csv')\n",
    "    ).rename(columns={'subtype': 'Subtype', 'celltype': 'Cell Type'})\n",
    "    wmc_list = sorted(np.unique(umap_df['WMC']), key=plot_order)\n",
    "    celltype_list = sorted(np.unique(umap_df['Cell Type']))\n",
    "    for wmc in wmc_list:\n",
    "        wmc_mask = umap_df['WMC'] == wmc\n",
    "        for celltype in celltype_list:\n",
    "            celltype_mask = umap_df['Cell Type'] == celltype\n",
    "            X = umap_df[wmc_mask & celltype_mask].iloc[:, :3]\n",
    "            _, counts = np.unique(DBSCAN().fit_predict(X), return_counts=True)\n",
    "            clusters.append({'Dataset': dir, 'WMC': wmc,\n",
    "                             'Cell Type': celltype, 'Size': max(counts)})\n",
    "pd.DataFrame(clusters).to_csv('UMAP 3D Cluster Sizes.csv', index=False)"
   ]
  },
  {
   "cell_type": "markdown",
   "metadata": {},
   "source": [
    "Leiden ARI calculation"
   ]
  },
  {
   "cell_type": "code",
   "execution_count": 259,
   "metadata": {},
   "outputs": [],
   "source": [
    "from sklearn.metrics import adjusted_rand_score\n",
    "ARI_list = []\n",
    "for cell in ['ann0608', 'phase']:\n",
    "    for l in adata.obs.columns:\n",
    "        if 'leiden' not in l:\n",
    "            continue\n",
    "        ari = adjusted_rand_score(adata.obs[cell], adata.obs[l])\n",
    "        ARI_list.append({'Cell': 'Phase' if cell == 'phase' else 'Type',\n",
    "                         'WMC': l.replace('leiden', ''), 'ARI': ari})\n",
    "ARI_df = pd.DataFrame(ARI_list)\n",
    "wmc_replacements = {\n",
    "    '_': '',\n",
    "    'band': '-Band\\n',\n",
    "    'low': 'Low',\n",
    "    'high': 'High '\n",
    "}\n",
    "ARI_df['WMC'] = ARI_df['WMC'].replace('', 'No WMC')\n",
    "for old_string, new_string in wmc_replacements.items():\n",
    "    ARI_df['WMC'] = ARI_df['WMC'].str.replace(old_string, new_string)"
   ]
  },
  {
   "cell_type": "code",
   "execution_count": 269,
   "metadata": {},
   "outputs": [],
   "source": [
    "import matplotlib.pyplot as plt\n",
    "import pandas as pd\n",
    "import seaborn as sns\n",
    "\n",
    "plt.figure(figsize=(8, 5))\n",
    "barplot = sns.barplot(x='WMC', y='ARI', hue='Cell', data=ARI_df)\n",
    "for i, bar in enumerate(barplot.patches):\n",
    "  bar_height = bar.get_height()\n",
    "  if bar_height <= 0.05:\n",
    "    continue\n",
    "  barplot.text(bar.get_x() + bar.get_width() / 2, bar_height,\n",
    "               f'  {bar_height:.2f}', ha='center', va='bottom')\n",
    "plt.xlabel('WMC')\n",
    "plt.ylabel('Leiden ARI')\n",
    "plt.legend(title='Cell')\n",
    "plt.savefig('Leiden ARI.pdf')\n",
    "plt.close('all')"
   ]
  }
 ],
 "metadata": {
  "colab": {
   "authorship_tag": "ABX9TyMYaBa8CGhD7W67pyFigz/3",
   "provenance": []
  },
  "kernelspec": {
   "display_name": "base",
   "language": "python",
   "name": "python3"
  },
  "language_info": {
   "codemirror_mode": {
    "name": "ipython",
    "version": 3
   },
   "file_extension": ".py",
   "mimetype": "text/x-python",
   "name": "python",
   "nbconvert_exporter": "python",
   "pygments_lexer": "ipython3",
   "version": "3.12.7"
  }
 },
 "nbformat": 4,
 "nbformat_minor": 0
}
